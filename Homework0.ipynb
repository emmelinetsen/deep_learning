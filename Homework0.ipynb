{
  "nbformat": 4,
  "nbformat_minor": 0,
  "metadata": {
    "colab": {
      "name": "Homework0.ipynb",
      "provenance": [],
      "authorship_tag": "ABX9TyPHbuNWd8frlG1m9XgPKh4E",
      "include_colab_link": true
    },
    "kernelspec": {
      "name": "python3",
      "display_name": "Python 3"
    }
  },
  "cells": [
    {
      "cell_type": "markdown",
      "metadata": {
        "id": "view-in-github",
        "colab_type": "text"
      },
      "source": [
        "<a href=\"https://colab.research.google.com/github/emmelinetsen/deep_learning/blob/master/Homework0.ipynb\" target=\"_parent\"><img src=\"https://colab.research.google.com/assets/colab-badge.svg\" alt=\"Open In Colab\"/></a>"
      ]
    },
    {
      "cell_type": "markdown",
      "metadata": {
        "id": "w1y2VM8hbTs0",
        "colab_type": "text"
      },
      "source": [
        "First mardown cell"
      ]
    },
    {
      "cell_type": "code",
      "metadata": {
        "id": "hK94G3z3bV32",
        "colab_type": "code",
        "outputId": "e8d1400b-1ee0-458a-afae-57f0f4a23ce0",
        "colab": {
          "base_uri": "https://localhost:8080/",
          "height": 34
        }
      },
      "source": [
        "# first code cell\n",
        "3/2"
      ],
      "execution_count": 0,
      "outputs": [
        {
          "output_type": "execute_result",
          "data": {
            "text/plain": [
              "1.5"
            ]
          },
          "metadata": {
            "tags": []
          },
          "execution_count": 1
        }
      ]
    },
    {
      "cell_type": "markdown",
      "metadata": {
        "id": "bJgNLGw6b8Zq",
        "colab_type": "text"
      },
      "source": [
        "# Markdown Formatting"
      ]
    },
    {
      "cell_type": "markdown",
      "metadata": {
        "id": "DLOQHNttcEXv",
        "colab_type": "text"
      },
      "source": [
        "_italics_"
      ]
    },
    {
      "cell_type": "markdown",
      "metadata": {
        "id": "DwpbWgzYcGjo",
        "colab_type": "text"
      },
      "source": [
        "***bold***"
      ]
    },
    {
      "cell_type": "markdown",
      "metadata": {
        "id": "bzk1prv6cH-9",
        "colab_type": "text"
      },
      "source": [
        "`inline`\n",
        "\n"
      ]
    },
    {
      "cell_type": "markdown",
      "metadata": {
        "id": "59jq4ScPcSWt",
        "colab_type": "text"
      },
      "source": [
        "> blockquote"
      ]
    },
    {
      "cell_type": "markdown",
      "metadata": {
        "id": "r1paGNsWcWCK",
        "colab_type": "text"
      },
      "source": [
        "[Link](google.com)"
      ]
    },
    {
      "cell_type": "markdown",
      "metadata": {
        "id": "FYbkE7ozdEnk",
        "colab_type": "text"
      },
      "source": [
        "## Heading 2 ## "
      ]
    },
    {
      "cell_type": "markdown",
      "metadata": {
        "id": "ZmMdsiBXdMjP",
        "colab_type": "text"
      },
      "source": [
        "### Ordered List ###\n"
      ]
    },
    {
      "cell_type": "markdown",
      "metadata": {
        "id": "jnfo-_JNdPYl",
        "colab_type": "text"
      },
      "source": [
        "1. Item 1\n",
        "  1. Item 1a\n",
        "2. Item 2"
      ]
    },
    {
      "cell_type": "markdown",
      "metadata": {
        "id": "H6vmgolDdX1A",
        "colab_type": "text"
      },
      "source": [
        "### Unordered List ###\n"
      ]
    },
    {
      "cell_type": "markdown",
      "metadata": {
        "id": "kqpISnm7dagb",
        "colab_type": "text"
      },
      "source": [
        "* Item 1 \n",
        "* Item 2\n",
        "* Item 3"
      ]
    },
    {
      "cell_type": "markdown",
      "metadata": {
        "id": "UcgjtMeVdevl",
        "colab_type": "text"
      },
      "source": [
        "### Checklist Item ###"
      ]
    },
    {
      "cell_type": "markdown",
      "metadata": {
        "id": "SBxkZ1zcdhAj",
        "colab_type": "text"
      },
      "source": [
        "- [x] Learn Jupyter Notebooks\n",
        "    - [x] Writing\n",
        "    - [x] Modes\n",
        "    - [x] Other Considerations\n",
        "- [ ] Change the world"
      ]
    },
    {
      "cell_type": "code",
      "metadata": {
        "id": "B4olThEYdQlx",
        "colab_type": "code",
        "colab": {}
      },
      "source": [
        ""
      ],
      "execution_count": 0,
      "outputs": []
    }
  ]
}