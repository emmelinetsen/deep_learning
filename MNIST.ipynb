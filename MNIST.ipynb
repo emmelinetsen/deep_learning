{
  "nbformat": 4,
  "nbformat_minor": 0,
  "metadata": {
    "colab": {
      "name": "MNIST.ipynb",
      "provenance": [],
      "collapsed_sections": [],
      "authorship_tag": "ABX9TyMWX6Nhd5h7+HnTl3aiqnKz",
      "include_colab_link": true
    },
    "kernelspec": {
      "name": "python3",
      "display_name": "Python 3"
    },
    "accelerator": "GPU"
  },
  "cells": [
    {
      "cell_type": "markdown",
      "metadata": {
        "id": "view-in-github",
        "colab_type": "text"
      },
      "source": [
        "<a href=\"https://colab.research.google.com/github/emmelinetsen/deep_learning/blob/master/MNIST.ipynb\" target=\"_parent\"><img src=\"https://colab.research.google.com/assets/colab-badge.svg\" alt=\"Open In Colab\"/></a>"
      ]
    },
    {
      "cell_type": "markdown",
      "metadata": {
        "id": "CQdtWp4q6xgN",
        "colab_type": "text"
      },
      "source": [
        "## Do MNIST classifier using numpy and python without CNN and just using plain neural networks. Parts covered in section:\n",
        "\n",
        "\n",
        "*   Scaling the input - part F"
      ]
    },
    {
      "cell_type": "code",
      "metadata": {
        "id": "WztWPz_aZLm7",
        "colab_type": "code",
        "colab": {
          "base_uri": "https://localhost:8080/",
          "height": 98
        },
        "outputId": "062182a4-534d-4760-8668-b233d54ffbce"
      },
      "source": [
        "import numpy as np\n",
        "from tensorflow.keras.datasets import mnist\n",
        "\n",
        "np.random.seed(1)\n",
        "\n",
        "# loading the mnist data into training and testing data\n",
        "(x_train, y_train), (x_test, y_test) = mnist.load_data()\n",
        "\n",
        "# getting the first 1000 data and reshaping the dataset for the first 1000\n",
        "# scaling the input to 255\n",
        "img, labels = (x_train[0:1000].reshape(1000,28*28) / 255), y_train[0:1000]\n",
        "\n",
        "# creating an array of zeros \n",
        "one_hot_labels = np.zeros((len(labels), 10))\n",
        "\n",
        "\n",
        "# assigning 1 to where the label would be for that particular array\n",
        "# for example, if the array \n",
        "for i,l in enumerate(labels):\n",
        "  one_hot_labels[i][l] = 1\n",
        "labels = one_hot_labels\n",
        "\n",
        "import sys, numpy as np\n",
        "\n",
        "test_img = x_test.reshape(len(x_test), 28*28) / 255\n",
        "test_label = np.zeros((len(y_test), 10))\n",
        "\n",
        "for i,l in enumerate(y_test):\n",
        "    test_label[i][l] = 1"
      ],
      "execution_count": 1,
      "outputs": [
        {
          "output_type": "display_data",
          "data": {
            "text/html": [
              "<p style=\"color: red;\">\n",
              "The default version of TensorFlow in Colab will soon switch to TensorFlow 2.x.<br>\n",
              "We recommend you <a href=\"https://www.tensorflow.org/guide/migrate\" target=\"_blank\">upgrade</a> now \n",
              "or ensure your notebook will continue to use TensorFlow 1.x via the <code>%tensorflow_version 1.x</code> magic:\n",
              "<a href=\"https://colab.research.google.com/notebooks/tensorflow_version.ipynb\" target=\"_blank\">more info</a>.</p>\n"
            ],
            "text/plain": [
              "<IPython.core.display.HTML object>"
            ]
          },
          "metadata": {
            "tags": []
          }
        },
        {
          "output_type": "stream",
          "text": [
            "Downloading data from https://storage.googleapis.com/tensorflow/tf-keras-datasets/mnist.npz\n",
            "11493376/11490434 [==============================] - 0s 0us/step\n"
          ],
          "name": "stdout"
        }
      ]
    },
    {
      "cell_type": "markdown",
      "metadata": {
        "id": "-Dwl__SE5BE0",
        "colab_type": "text"
      },
      "source": [
        "## Do MNIST classifier using numpy and python without CNN and just using plain neural networks. Parts covered in section:\n",
        "\n",
        "\n",
        "*   Mini batch - part A\n",
        "*   Random weight initializations - part B\n",
        "*   Data Augmentation - part C\n",
        "*   Using 3 or more layers for training - part D\n",
        "*   Using RELU activation function - part E\n",
        "*   Using appropriate learning rate - part G\n",
        "*   Testing and training accuracy | plotting results with confusion matrix - part H\n"
      ]
    },
    {
      "cell_type": "code",
      "metadata": {
        "id": "Xe59FNUNRPxw",
        "colab_type": "code",
        "outputId": "4cbeb13d-5897-4ab8-ef91-b988b8a60a09",
        "colab": {
          "base_uri": "https://localhost:8080/",
          "height": 285
        }
      },
      "source": [
        "# Data augumentation\n",
        "from keras.preprocessing.image import ImageDataGenerator\n",
        "\n",
        "x_train = x_train.reshape(-1,28,28,1) # reshape the x_train dataset in 3 dimensions\n",
        "\n",
        "datagen = ImageDataGenerator(\n",
        "        featurewise_center=False,  # set input mean to 0 over the dataset\n",
        "        samplewise_center=False,  # set each sample mean to 0\n",
        "        featurewise_std_normalization=False,  # divide inputs by std of the dataset\n",
        "        samplewise_std_normalization=False,  # divide each input by its std\n",
        "        zca_whitening=False,  # apply ZCA whitening\n",
        "        rotation_range=10,  # randomly rotate images in the range (degrees, 0 to 180)\n",
        "        zoom_range = 0.1, # Randomly zoom image \n",
        "        width_shift_range=0.2,  # randomly shift images horizontally (fraction of total width)\n",
        "        height_shift_range=0.1,  # randomly shift images vertically (fraction of total height)\n",
        "        horizontal_flip=False,  # randomly flip images\n",
        "        vertical_flip=False)  # randomly flip images\n",
        "\n",
        "\n",
        "datagen.fit(x_train)\n",
        "\n",
        "from matplotlib import pyplot\n",
        "\n",
        "for X_batch, y_batch in datagen.flow(x_train, y_train, batch_size=9):\n",
        "\t# create a grid of 3x3 images\n",
        "\tfor i in range(0, 9):\n",
        "\t\tpyplot.subplot(330 + 1 + i)\n",
        "\t\tpyplot.imshow(X_batch[i].reshape(28, 28), cmap=pyplot.get_cmap('gray'))\n",
        "\t# show the plot\n",
        "\tpyplot.show()\n",
        "\tbreak"
      ],
      "execution_count": 2,
      "outputs": [
        {
          "output_type": "stream",
          "text": [
            "Using TensorFlow backend.\n"
          ],
          "name": "stderr"
        },
        {
          "output_type": "display_data",
          "data": {
            "image/png": "[encoded data removed]",
            "text/plain": [
              "<Figure size 432x288 with 9 Axes>"
            ]
          },
          "metadata": {
            "tags": []
          }
        }
      ]
    },
    {
      "cell_type": "code",
      "metadata": {
        "id": "eyR_YQz-uBZa",
        "colab_type": "code",
        "outputId": "ddda71e9-f3b2-4bac-fdc6-cef484d603c7",
        "colab": {
          "base_uri": "https://localhost:8080/",
          "height": 390
        }
      },
      "source": [
        "# setting up relu activation function\n",
        "# would return x if x > 0, else return 0\n",
        "relu = lambda x: (x>0) * x\n",
        "\n",
        "# setting up backprop for relu\n",
        "# returns 1 if input > 0, else return 0\n",
        "relu2deriv = lambda x: x >= 0\n",
        "\n",
        "# learning rate\n",
        "alpha = 0.001\n",
        "\n",
        "# number of iterations\n",
        "iterations = 200\n",
        "\n",
        "# hidden size\n",
        "hidden = 100\n",
        "\n",
        "# pixels per image \n",
        "pixels = 28 * 28\n",
        "\n",
        "# number of labels\n",
        "num_labels = 10\n",
        "\n",
        "# batch size\n",
        "batch_size = 100\n",
        "\n",
        "# weights from layer 0 to 1\n",
        "# initialize random weights\n",
        "weights_0_1 = 0.2 * np.random.random((pixels, hidden)) - 0.1\n",
        "\n",
        "# weights from layer 1 to 2\n",
        "# initialize random weights\n",
        "weights_1_2 = 0.2*np.random.random((hidden,num_labels)) - 0.1\n",
        "\n",
        "test_err_np = np.array([])\n",
        "test_acc_np = np.array([])\n",
        "train_err_np = np.array([])\n",
        "train_acc_np = np.array([])\n",
        "\n",
        "# training\n",
        "for j in range(iterations):\n",
        "  error = 0.0\n",
        "  correct_cnt = 0\n",
        " \n",
        "  # iterating through each training image\n",
        "  for i in range(int(len(img) / batch_size)):\n",
        "    batch_start = i * batch_size\n",
        "    batch_end = (i+1) * batch_size\n",
        "    \n",
        "    # layer 0\n",
        "    layer_0 = img[batch_start : batch_end]\n",
        "    # layer 1\n",
        "    layer_1 = relu(np.dot(layer_0, weights_0_1))\n",
        "    # adding dropout mask\n",
        "    dropout_mask = np.random.randint(2 , size=layer_1.shape)\n",
        "    layer_1 *= dropout_mask * 2\n",
        "    # layer 2\n",
        "    layer_2 = np.dot(layer_1, weights_1_2)\n",
        "\n",
        "    # MSE between the predicted and actual label value\n",
        "    error += np.sum((labels[batch_start : batch_end] - layer_2) ** 2)\n",
        "\n",
        "    for k in range(batch_size):\n",
        "\n",
        "      # counting how many times the model predicts correctly\n",
        "      correct_cnt += int(np.argmax(layer_2[k:k+1]) == np.argmax(labels[batch_start+k:batch_end+k+1]))\n",
        "\n",
        "      # difference predicted and actual \n",
        "      layer_2_delta = (labels[batch_start:batch_end] - layer_2) / batch_size\n",
        "\n",
        "      # backprop & adjusting weights\n",
        "      # adding dropout mask\n",
        "      layer_1_delta = layer_2_delta.dot(weights_1_2.T) * relu2deriv(layer_1)\n",
        "      layer_1_delta *= dropout_mask\n",
        "\n",
        "      weights_1_2 += alpha * layer_1.T.dot(layer_2_delta)\n",
        "      weights_0_1 += alpha * layer_0.T.dot(layer_1_delta)\n",
        "      # print(weights_0_1)\n",
        "\n",
        "  \n",
        "  if (j%10 == 0):\n",
        "    test_error = 0.0\n",
        "    test_correct_cnt = 0\n",
        "\n",
        "    for i in range(len(test_img)):\n",
        "      layer_0 = test_img[i:i+1]\n",
        "      layer_1 = relu(np.dot(layer_0, weights_0_1))\n",
        "      layer_2 = np.dot(layer_1, weights_1_2)\n",
        "\n",
        "\n",
        "      test_error += np.sum((test_label[i:i+1] - layer_2) ** 2)\n",
        "      test_correct_cnt += int(np.argmax(layer_2) == np.argmax(test_label[i:i+1]))\n",
        "      \n",
        "    test_err_np = np.append(test_err_np, [test_error/ float(len(test_img))])\n",
        "    test_acc_np = np.append(test_acc_np, [test_correct_cnt / float(len(test_img))])\n",
        "    train_err_np = np.append(train_err_np, [error/float(len(img))])\n",
        "    train_acc_np = np.append(train_acc_np, [correct_cnt/float(len(img))])\n",
        "    sys.stdout.write(\"\\n I:\"+str(j)+ \\\n",
        "                     \" Test-Error:\" + str(test_error/ float(len(test_img)))[0:5] +\\\n",
        "                     \" Test-Accuracy:\" + str(test_correct_cnt/ float(len(test_img)))+\\\n",
        "                     \" Train-Error:\" + str(error/float(len(img)))[0:5] +\\\n",
        "                     \" Train-Accuracy:\" + str(correct_cnt/float(len(img))))\n",
        "    # print(str(test_error/ float(len(test_img)))[0:5])"
      ],
      "execution_count": 3,
      "outputs": [
        {
          "output_type": "stream",
          "text": [
            "\n",
            " I:0 Test-Error:0.822 Test-Accuracy:0.3551 Train-Error:1.268 Train-Accuracy:0.166\n",
            " I:10 Test-Error:0.566 Test-Accuracy:0.7089 Train-Error:0.597 Train-Accuracy:0.677\n",
            " I:20 Test-Error:0.502 Test-Accuracy:0.7507 Train-Error:0.529 Train-Accuracy:0.733\n",
            " I:30 Test-Error:0.472 Test-Accuracy:0.7717 Train-Error:0.478 Train-Accuracy:0.761\n",
            " I:40 Test-Error:0.452 Test-Accuracy:0.789 Train-Error:0.467 Train-Accuracy:0.79\n",
            " I:50 Test-Error:0.451 Test-Accuracy:0.7916 Train-Error:0.455 Train-Accuracy:0.781\n",
            " I:60 Test-Error:0.447 Test-Accuracy:0.7978 Train-Error:0.462 Train-Accuracy:0.784\n",
            " I:70 Test-Error:0.434 Test-Accuracy:0.8055 Train-Error:0.429 Train-Accuracy:0.815\n",
            " I:80 Test-Error:0.437 Test-Accuracy:0.8037 Train-Error:0.447 Train-Accuracy:0.791\n",
            " I:90 Test-Error:0.431 Test-Accuracy:0.808 Train-Error:0.428 Train-Accuracy:0.825\n",
            " I:100 Test-Error:0.428 Test-Accuracy:0.8085 Train-Error:0.423 Train-Accuracy:0.813\n",
            " I:110 Test-Error:0.427 Test-Accuracy:0.8086 Train-Error:0.425 Train-Accuracy:0.82\n",
            " I:120 Test-Error:0.427 Test-Accuracy:0.8114 Train-Error:0.410 Train-Accuracy:0.824\n",
            " I:130 Test-Error:0.432 Test-Accuracy:0.808 Train-Error:0.424 Train-Accuracy:0.818\n",
            " I:140 Test-Error:0.430 Test-Accuracy:0.8088 Train-Error:0.422 Train-Accuracy:0.813\n",
            " I:150 Test-Error:0.431 Test-Accuracy:0.8024 Train-Error:0.416 Train-Accuracy:0.827\n",
            " I:160 Test-Error:0.426 Test-Accuracy:0.8034 Train-Error:0.400 Train-Accuracy:0.857\n",
            " I:170 Test-Error:0.429 Test-Accuracy:0.8048 Train-Error:0.411 Train-Accuracy:0.822\n",
            " I:180 Test-Error:0.424 Test-Accuracy:0.8074 Train-Error:0.384 Train-Accuracy:0.841\n",
            " I:190 Test-Error:0.422 Test-Accuracy:0.803 Train-Error:0.383 Train-Accuracy:0.836"
          ],
          "name": "stdout"
        }
      ]
    },
    {
      "cell_type": "code",
      "metadata": {
        "id": "In4825g8AGlO",
        "colab_type": "code",
        "outputId": "1b1d24a5-b041-4d07-add6-c62d790a8daf",
        "colab": {
          "base_uri": "https://localhost:8080/",
          "height": 264
        }
      },
      "source": [
        "# Plotting results\n",
        "import matplotlib.pyplot as plt\n",
        "\n",
        "fig, ax = plt.subplots(2,1)\n",
        "ax[0].plot(train_acc_np, color='r', label=\"Training Accuracy\")\n",
        "ax[0].plot(train_err_np, color='b', label=\"Training Error\")\n",
        "legend = ax[0].legend(loc='best', shadow=True)\n",
        "\n",
        "\n",
        "ax[1].plot(test_acc_np, color='r', label=\"Testing Accuracy\")\n",
        "ax[1].plot(test_err_np, color='b', label=\"Testing Error\")\n",
        "legend = ax[1].legend(loc='best', shadow=True)\n",
        "\n",
        "\n"
      ],
      "execution_count": 4,
      "outputs": [
        {
          "output_type": "display_data",
          "data": {
            "image/png": "[encoded data removed]",
            "text/plain": [
              "<Figure size 432x288 with 2 Axes>"
            ]
          },
          "metadata": {
            "tags": []
          }
        }
      ]
    },
    {
      "cell_type": "code",
      "metadata": {
        "id": "AkxFgkSIFsdv",
        "colab_type": "code",
        "outputId": "1ad72d35-1f65-4bfd-b8a7-75526640e453",
        "colab": {
          "base_uri": "https://localhost:8080/",
          "height": 311
        }
      },
      "source": [
        "from sklearn.metrics import confusion_matrix\n",
        "import itertools\n",
        "\n",
        "# Function to predict the test images\n",
        "# Returns an array of the predicted labels\n",
        "def predict():\n",
        "  result = np.array([])\n",
        "  for i in range(len(test_img)):\n",
        "    layer_0 = test_img[i:i+1]\n",
        "    layer_1 = relu(np.dot(layer_0, weights_0_1))\n",
        "    layer_2 = np.dot(layer_1, weights_1_2)\n",
        "\n",
        "    result = np.append(result, np.argmax(layer_2))\n",
        "  return result\n",
        "\n",
        "# Confusion matrix \n",
        "def plot_confusion_matrix(cm, classes,\n",
        "                          normalize=False,\n",
        "                          title='Confusion matrix',\n",
        "                          cmap=plt.cm.Blues):\n",
        "    \"\"\"\n",
        "    This function prints and plots the confusion matrix.\n",
        "    Normalization can be applied by setting `normalize=True`.\n",
        "    \"\"\"\n",
        "    plt.imshow(cm, interpolation='nearest', cmap=cmap)\n",
        "    plt.title(title)\n",
        "    plt.colorbar()\n",
        "    tick_marks = np.arange(len(classes))\n",
        "    plt.xticks(tick_marks, classes, rotation=45)\n",
        "    plt.yticks(tick_marks, classes)\n",
        "\n",
        "    if normalize:\n",
        "        cm = cm.astype('float') / cm.sum(axis=1)[:, np.newaxis]\n",
        "\n",
        "    thresh = cm.max() / 2.\n",
        "    for i, j in itertools.product(range(cm.shape[0]), range(cm.shape[1])):\n",
        "        plt.text(j, i, cm[i, j],\n",
        "                 horizontalalignment=\"center\",\n",
        "                 color=\"white\" if cm[i, j] > thresh else \"black\")\n",
        "\n",
        "    plt.tight_layout()\n",
        "    plt.ylabel('True label')\n",
        "    plt.xlabel('Predicted label')\n",
        "\n",
        "# Predict the values from the validation dataset\n",
        "Y_pred = predict()\n",
        "\n",
        "# Correct labels \n",
        "Y_true = y_test\n",
        "\n",
        "# compute the confusion matrix\n",
        "confusion_mtx = confusion_matrix(Y_true, Y_pred) \n",
        "\n",
        "# plot the confusion matrix\n",
        "plot_confusion_matrix(confusion_mtx, classes = range(10)) "
      ],
      "execution_count": 5,
      "outputs": [
        {
          "output_type": "display_data",
          "data": {
            "image/png": "[encoded data removed]",
            "text/plain": [
              "<Figure size 432x288 with 2 Axes>"
            ]
          },
          "metadata": {
            "tags": []
          }
        }
      ]
    },
    {
      "cell_type": "code",
      "metadata": {
        "id": "3xlMm4NloaGk",
        "colab_type": "code",
        "outputId": "3596dcd8-ef0f-46dc-84bf-83df872a58bf",
        "colab": {
          "base_uri": "https://localhost:8080/",
          "height": 194
        }
      },
      "source": [
        "confusion_mtx\n"
      ],
      "execution_count": 6,
      "outputs": [
        {
          "output_type": "execute_result",
          "data": {
            "text/plain": [
              "array([[ 914,    0,   13,    5,    0,   20,   17,    2,    8,    1],\n",
              "       [   0, 1023,   19,    2,    0,   13,    4,    1,   73,    0],\n",
              "       [   9,    2,  852,   20,   20,    7,   32,   10,   77,    3],\n",
              "       [   9,    0,   69,  618,    2,  204,   20,   15,   61,   12],\n",
              "       [   2,    0,    7,    0,  752,    4,   23,   12,   16,  166],\n",
              "       [  18,    2,   11,   29,   27,  676,   27,    8,   63,   31],\n",
              "       [  10,    1,   28,    1,   27,   32,  844,    2,   13,    0],\n",
              "       [   3,    8,   55,   13,   14,   17,    1,  863,    9,   45],\n",
              "       [  10,    1,   32,    4,   14,  135,   22,   10,  725,   21],\n",
              "       [  11,    1,   19,   18,   33,   29,    1,  109,   17,  771]])"
            ]
          },
          "metadata": {
            "tags": []
          },
          "execution_count": 6
        }
      ]
    },
    {
      "cell_type": "markdown",
      "metadata": {
        "id": "nz_62E4H-APu",
        "colab_type": "text"
      },
      "source": [
        "## Top Common Errors - part I"
      ]
    },
    {
      "cell_type": "code",
      "metadata": {
        "id": "x5cOYziNqIlo",
        "colab_type": "code",
        "outputId": "23f183f2-b87b-42f0-b200-e2d6419e65b3",
        "colab": {
          "base_uri": "https://localhost:8080/",
          "height": 34
        }
      },
      "source": [
        "np.diagonal(confusion_mtx)"
      ],
      "execution_count": 7,
      "outputs": [
        {
          "output_type": "execute_result",
          "data": {
            "text/plain": [
              "array([ 914, 1023,  852,  618,  752,  676,  844,  863,  725,  771])"
            ]
          },
          "metadata": {
            "tags": []
          },
          "execution_count": 7
        }
      ]
    },
    {
      "cell_type": "code",
      "metadata": {
        "id": "ZhbxHSx-qXYX",
        "colab_type": "code",
        "outputId": "75b70d70-dc9f-49aa-9f3d-c3e3c5d114d1",
        "colab": {
          "base_uri": "https://localhost:8080/",
          "height": 168
        }
      },
      "source": [
        "np.take(Y_pred_errors, Y_true_errors)"
      ],
      "execution_count": 9,
      "outputs": [
        {
          "output_type": "error",
          "ename": "NameError",
          "evalue": "ignored",
          "traceback": [
            "\u001b[0;31m---------------------------------------------------------------------------\u001b[0m",
            "\u001b[0;31mNameError\u001b[0m                                 Traceback (most recent call last)",
            "\u001b[0;32m<ipython-input-9-530b872f7857>\u001b[0m in \u001b[0;36m<module>\u001b[0;34m()\u001b[0m\n\u001b[0;32m----> 1\u001b[0;31m \u001b[0mnp\u001b[0m\u001b[0;34m.\u001b[0m\u001b[0mtake\u001b[0m\u001b[0;34m(\u001b[0m\u001b[0mY_pred_errors\u001b[0m\u001b[0;34m,\u001b[0m \u001b[0mY_true_errors\u001b[0m\u001b[0;34m)\u001b[0m\u001b[0;34m\u001b[0m\u001b[0;34m\u001b[0m\u001b[0m\n\u001b[0m",
            "\u001b[0;31mNameError\u001b[0m: name 'Y_pred_errors' is not defined"
          ]
        }
      ]
    },
    {
      "cell_type": "code",
      "metadata": {
        "id": "8_-pxlDumwvm",
        "colab_type": "code",
        "outputId": "b86c3f6f-2b5d-41bb-972a-647f314cfbb7",
        "colab": {
          "base_uri": "https://localhost:8080/",
          "height": 34
        }
      },
      "source": [
        "errors = (Y_pred - Y_true != 0)\n",
        "Y_pred[errors]"
      ],
      "execution_count": 10,
      "outputs": [
        {
          "output_type": "execute_result",
          "data": {
            "text/plain": [
              "array([6., 2., 2., ..., 8., 5., 8.])"
            ]
          },
          "metadata": {
            "tags": []
          },
          "execution_count": 10
        }
      ]
    },
    {
      "cell_type": "code",
      "metadata": {
        "id": "j4N5HDwbkSdq",
        "colab_type": "code",
        "colab": {}
      },
      "source": [
        "errors"
      ],
      "execution_count": 0,
      "outputs": []
    },
    {
      "cell_type": "code",
      "metadata": {
        "id": "gsj53CEtdNZb",
        "colab_type": "code",
        "colab": {}
      },
      "source": [
        "# Convert predictions classes to one hot vectors \n",
        "Y_pred_classes = np.argmax(Y_pred) \n",
        "Y_pred_classes"
      ],
      "execution_count": 0,
      "outputs": []
    },
    {
      "cell_type": "code",
      "metadata": {
        "id": "ar_Bj5vwilrY",
        "colab_type": "code",
        "outputId": "1f49c541-b073-4efe-f757-069e9f320104",
        "colab": {
          "base_uri": "https://localhost:8080/",
          "height": 366
        }
      },
      "source": [
        "# Display some error results \n",
        "\n",
        "# Errors are difference between predicted labels and true labels\n",
        "errors = (Y_pred - Y_true != 0)\n",
        "\n",
        "#Y_pred_classes_errors = Y_pred_classes[errors]\n",
        "Y_pred_errors = Y_pred[errors]\n",
        "Y_true_errors = Y_true[errors]\n",
        "# X_val_errors = X_val[errors]\n",
        "test_img_errors = test_img[errors]\n",
        "\n",
        "def display_errors(errors_index,img_errors,pred_errors, obs_errors):\n",
        "    \"\"\" This function shows 6 images with their predicted and real labels\"\"\"\n",
        "    n = 0\n",
        "    nrows = 2\n",
        "    ncols = 3\n",
        "    fig, ax = plt.subplots(nrows,ncols,sharex=True,sharey=True)\n",
        "    for row in range(nrows):\n",
        "        for col in range(ncols):\n",
        "            error = errors_index[n]\n",
        "            ax[row,col].imshow((img_errors[error]).reshape((28,28)))\n",
        "            ax[row,col].set_title(\"Predicted label :{}\\nTrue label :{}\".format(pred_errors[error],obs_errors[error]))\n",
        "            n += 1\n",
        "\n",
        "\n",
        "\n",
        "# Probabilities of the wrong predicted numbers\n",
        "Y_pred_errors_prob = Y_pred_errors\n",
        "print(Y_pred_errors_prob)\n",
        "\n",
        "# Predicted probabilities of the true values in the error set\n",
        "true_prob_errors = np.take(Y_pred_errors, Y_true_errors)\n",
        "print(true_prob_errors)\n",
        "\n",
        "# Difference between the probability of the predicted label and the true label\n",
        "delta_pred_true_errors = Y_pred_errors_prob - true_prob_errors\n",
        "# delta_pred_true_errors = Y_pred_errors_prob\n",
        "print(delta_pred_true_errors)\n",
        "\n",
        "# Sorted list of the delta prob errors\n",
        "sorted_dela_errors = np.argsort(delta_pred_true_errors)\n",
        "print(sorted_dela_errors)\n",
        "\n",
        "# Top 6 errors \n",
        "most_important_errors = sorted_dela_errors[-6:]\n",
        "\n",
        "# Show the top 6 errors\n",
        "# display_errors(most_important_errors, X_val_errors, Y_pred_classes_errors, Y_true_errors)\n",
        "display_errors(most_important_errors, test_img_errors, Y_pred_errors, Y_true_errors)"
      ],
      "execution_count": 11,
      "outputs": [
        {
          "output_type": "stream",
          "text": [
            "[6. 2. 2. ... 8. 5. 8.]\n",
            "[2. 4. 3. ... 7. 6. 4.]\n",
            "[ 4. -2. -1. ...  1. -1.  4.]\n",
            "[ 212 1012  968 ... 1652 1701 1644]\n"
          ],
          "name": "stdout"
        },
        {
          "output_type": "display_data",
          "data": {
            "image/png": "[encoded data removed]",
            "text/plain": [
              "<Figure size 432x288 with 6 Axes>"
            ]
          },
          "metadata": {
            "tags": []
          }
        }
      ]
    },
    {
      "cell_type": "code",
      "metadata": {
        "id": "7IQSflgCtsQM",
        "colab_type": "code",
        "colab": {}
      },
      "source": [
        ""
      ],
      "execution_count": 0,
      "outputs": []
    }
  ]
}