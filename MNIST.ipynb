{
  "nbformat": 4,
  "nbformat_minor": 0,
  "metadata": {
    "colab": {
      "name": "MNIST.ipynb",
      "provenance": [],
      "collapsed_sections": [],
      "authorship_tag": "ABX9TyNUjbHq9URNgCLLAw2P86l8",
      "include_colab_link": true
    },
    "kernelspec": {
      "name": "python3",
      "display_name": "Python 3"
    },
    "accelerator": "GPU"
  },
  "cells": [
    {
      "cell_type": "markdown",
      "metadata": {
        "id": "view-in-github",
        "colab_type": "text"
      },
      "source": [
        "<a href=\"https://colab.research.google.com/github/emmelinetsen/deep_learning/blob/master/MNIST.ipynb\" target=\"_parent\"><img src=\"https://colab.research.google.com/assets/colab-badge.svg\" alt=\"Open In Colab\"/></a>"
      ]
    },
    {
      "cell_type": "markdown",
      "metadata": {
        "id": "CQdtWp4q6xgN",
        "colab_type": "text"
      },
      "source": [
        "## Do MNIST classifier using numpy and python without CNN and just using plain neural networks. Parts covered in section:\n",
        "\n",
        "\n",
        "*   Scaling the input - part F"
      ]
    },
    {
      "cell_type": "code",
      "metadata": {
        "id": "WztWPz_aZLm7",
        "colab_type": "code",
        "colab": {}
      },
      "source": [
        "import numpy as np\n",
        "from tensorflow.keras.datasets import mnist\n",
        "\n",
        "np.random.seed(1)\n",
        "\n",
        "# loading the mnist data into training and testing data\n",
        "(x_train, y_train), (x_test, y_test) = mnist.load_data()\n",
        "\n",
        "# getting the first 1000 data and reshaping the dataset for the first 1000\n",
        "# scaling the input to 255\n",
        "img, labels = (x_train[0:1000].reshape(1000,28*28) / 255), y_train[0:1000]\n",
        "\n",
        "# creating an array of zeros \n",
        "one_hot_labels = np.zeros((len(labels), 10))\n",
        "\n",
        "\n",
        "# assigning 1 to where the label would be for that particular array\n",
        "# for example, if the array \n",
        "for i,l in enumerate(labels):\n",
        "  one_hot_labels[i][l] = 1\n",
        "labels = one_hot_labels\n",
        "\n",
        "import sys, numpy as np\n",
        "\n",
        "test_img = x_test.reshape(len(x_test), 28*28) / 255\n",
        "test_label = np.zeros((len(y_test), 10))\n",
        "\n",
        "for i,l in enumerate(y_test):\n",
        "    test_label[i][l] = 1"
      ],
      "execution_count": 0,
      "outputs": []
    },
    {
      "cell_type": "markdown",
      "metadata": {
        "id": "-Dwl__SE5BE0",
        "colab_type": "text"
      },
      "source": [
        "## Do MNIST classifier using numpy and python without CNN and just using plain neural networks. Parts covered in section:\n",
        "\n",
        "\n",
        "*   Mini batch - part A\n",
        "*   Random weight initializations - part B\n",
        "*   Using RELU activation function - part E\n",
        "*   Using appropriate learning rate - part G\n",
        "*   Testing and training accuracy | plotting results with confusion matrix - part H\n",
        "\n",
        "\n",
        "## Mini batch\n",
        "# Dropout mask, Random weight initalizations (Part A, B)"
      ]
    },
    {
      "cell_type": "code",
      "metadata": {
        "id": "5JgOr5mgFYqz",
        "colab_type": "code",
        "outputId": "e50465a7-dcdb-46fc-8550-5fdcd96b174f",
        "colab": {
          "base_uri": "https://localhost:8080/",
          "height": 374
        }
      },
      "source": [
        "# setting up relu activation function\n",
        "# would return x if x > 0, else return 0\n",
        "relu = lambda x: (x>0) * x\n",
        "\n",
        "# setting up backprop for relu\n",
        "# returns 1 if input > 0, else return 0\n",
        "relu2deriv = lambda x: x >= 0\n",
        "\n",
        "# learning rate\n",
        "alpha = 0.001\n",
        "\n",
        "# number of iterations\n",
        "iterations = 200\n",
        "\n",
        "# hidden size\n",
        "hidden = 100\n",
        "\n",
        "# pixels per image \n",
        "pixels = 28 * 28\n",
        "\n",
        "# number of labels\n",
        "num_labels = 10\n",
        "\n",
        "# batch size\n",
        "batch_size = 100\n",
        "\n",
        "# weights from layer 0 to 1\n",
        "# initialize random weights\n",
        "weights_0_1 = 0.2 * np.random.random((pixels, hidden)) - 0.1\n",
        "\n",
        "# weights from layer 1 to 2\n",
        "# initialize random weights\n",
        "weights_1_2 = 0.2*np.random.random((hidden,num_labels)) - 0.1\n",
        "\n",
        "# training\n",
        "for j in range(iterations):\n",
        "  error = 0.0\n",
        "  correct_cnt = 0\n",
        "\n",
        "  # iterating through each training image\n",
        "  for i in range(int(len(img) / batch_size)):\n",
        "    batch_start = i * batch_size\n",
        "    batch_end = (i+1) * batch_size\n",
        "    \n",
        "    # layer 0\n",
        "    layer_0 = img[batch_start : batch_end]\n",
        "    # layer 1\n",
        "    layer_1 = relu(np.dot(layer_0, weights_0_1))\n",
        "    # adding dropout mask\n",
        "    dropout_mask = np.random.randint(2 , size=layer_1.shape)\n",
        "    layer_1 *= dropout_mask * 2\n",
        "    # layer 2\n",
        "    layer_2 = np.dot(layer_1, weights_1_2)\n",
        "\n",
        "    # MSE between the predicted and actual label value\n",
        "    error += np.sum((labels[batch_start : batch_end] - layer_2) ** 2)\n",
        "\n",
        "    for k in range(batch_size):\n",
        "\n",
        "      # counting how many times the model predicts correctly\n",
        "      correct_cnt += int(np.argmax(layer_2[k:k+1]) == np.argmax(labels[batch_start+k:batch_end+k+1]))\n",
        "\n",
        "      # difference predicted and actual \n",
        "      layer_2_delta = (labels[batch_start:batch_end] - layer_2) / batch_size\n",
        "\n",
        "      # backprop & adjusting weights\n",
        "      # adding dropout mask\n",
        "      layer_1_delta = layer_2_delta.dot(weights_1_2.T) * relu2deriv(layer_1)\n",
        "      layer_1_delta *= dropout_mask\n",
        "\n",
        "      weights_1_2 += alpha * layer_1.T.dot(layer_2_delta)\n",
        "      weights_0_1 += alpha * layer_0.T.dot(layer_1_delta)\n",
        "      # print(weights_0_1)\n",
        "\n",
        "  if (j%10 == 0):\n",
        "    test_error = 0.0\n",
        "    test_correct_cnt = 0\n",
        "\n",
        "    for i in range(len(test_img)):\n",
        "      layer_0 = test_img[i:i+1]\n",
        "      layer_1 = relu(np.dot(layer_0, weights_0_1))\n",
        "      layer_2 = np.dot(layer_1, weights_1_2)\n",
        "\n",
        "\n",
        "      test_error += np.sum((test_label[i:i+1] - layer_2) ** 2)\n",
        "      test_correct_cnt += int(np.argmax(layer_2) == np.argmax(test_label[i:i+1]))\n",
        "  \n",
        "    # print(test_error)\n",
        "    sys.stdout.write(\"\\n I:\"+str(j)+ \\\n",
        "                     \" Test-Error:\" + str(test_error/ float(len(test_img)))[0:5] +\\\n",
        "                     \" Test-Accuracy:\" + str(test_correct_cnt/ float(len(test_img)))+\\\n",
        "                     \" Train-Error:\" + str(error/float(len(img)))[0:5] +\\\n",
        "                     \" Train-Accuracy:\" + str(correct_cnt/float(len(img))))\n",
        "    # print(str(test_error/ float(len(test_img)))[0:5])"
      ],
      "execution_count": 29,
      "outputs": [
        {
          "output_type": "stream",
          "text": [
            "\n",
            " I:0 Test-Error:0.817 Test-Accuracy:0.3742 Train-Error:1.274 Train-Accuracy:0.18\n",
            " I:10 Test-Error:0.550 Test-Accuracy:0.7394 Train-Error:0.587 Train-Accuracy:0.694\n",
            " I:20 Test-Error:0.493 Test-Accuracy:0.7747 Train-Error:0.520 Train-Accuracy:0.752\n",
            " I:30 Test-Error:0.469 Test-Accuracy:0.7867 Train-Error:0.495 Train-Accuracy:0.753\n",
            " I:40 Test-Error:0.454 Test-Accuracy:0.7891 Train-Error:0.472 Train-Accuracy:0.782\n",
            " I:50 Test-Error:0.450 Test-Accuracy:0.7894 Train-Error:0.456 Train-Accuracy:0.777\n",
            " I:60 Test-Error:0.445 Test-Accuracy:0.7874 Train-Error:0.449 Train-Accuracy:0.814\n",
            " I:70 Test-Error:0.445 Test-Accuracy:0.7821 Train-Error:0.439 Train-Accuracy:0.806\n",
            " I:80 Test-Error:0.451 Test-Accuracy:0.7805 Train-Error:0.440 Train-Accuracy:0.8\n",
            " I:90 Test-Error:0.452 Test-Accuracy:0.7796 Train-Error:0.429 Train-Accuracy:0.806\n",
            " I:100 Test-Error:0.448 Test-Accuracy:0.7789 Train-Error:0.439 Train-Accuracy:0.804\n",
            " I:110 Test-Error:0.445 Test-Accuracy:0.7865 Train-Error:0.428 Train-Accuracy:0.819\n",
            " I:120 Test-Error:0.444 Test-Accuracy:0.791 Train-Error:0.439 Train-Accuracy:0.801\n",
            " I:130 Test-Error:0.443 Test-Accuracy:0.793 Train-Error:0.424 Train-Accuracy:0.809\n",
            " I:140 Test-Error:0.438 Test-Accuracy:0.8001 Train-Error:0.414 Train-Accuracy:0.844\n",
            " I:150 Test-Error:0.434 Test-Accuracy:0.8032 Train-Error:0.411 Train-Accuracy:0.831\n",
            " I:160 Test-Error:0.438 Test-Accuracy:0.8009 Train-Error:0.406 Train-Accuracy:0.835\n",
            " I:170 Test-Error:0.432 Test-Accuracy:0.8056 Train-Error:0.407 Train-Accuracy:0.819\n",
            " I:180 Test-Error:0.431 Test-Accuracy:0.8024 Train-Error:0.400 Train-Accuracy:0.839\n",
            " I:190 Test-Error:0.428 Test-Accuracy:0.807 Train-Error:0.408 Train-Accuracy:0.834"
          ],
          "name": "stdout"
        }
      ]
    },
    {
      "cell_type": "code",
      "metadata": {
        "id": "eyR_YQz-uBZa",
        "colab_type": "code",
        "colab": {
          "base_uri": "https://localhost:8080/",
          "height": 374
        },
        "outputId": "d5bbca46-2af7-4a93-c2f2-82523ff76897"
      },
      "source": [
        "# setting up relu activation function\n",
        "# would return x if x > 0, else return 0\n",
        "relu = lambda x: (x>0) * x\n",
        "\n",
        "# setting up backprop for relu\n",
        "# returns 1 if input > 0, else return 0\n",
        "relu2deriv = lambda x: x >= 0\n",
        "\n",
        "# learning rate\n",
        "alpha = 0.001\n",
        "\n",
        "# number of iterations\n",
        "iterations = 200\n",
        "\n",
        "# hidden size\n",
        "hidden = 100\n",
        "\n",
        "# pixels per image \n",
        "pixels = 28 * 28\n",
        "\n",
        "# number of labels\n",
        "num_labels = 10\n",
        "\n",
        "# batch size\n",
        "batch_size = 100\n",
        "\n",
        "# weights from layer 0 to 1\n",
        "# initialize random weights\n",
        "weights_0_1 = 0.2 * np.random.random((pixels, hidden)) - 0.1\n",
        "\n",
        "# weights from layer 1 to 2\n",
        "# initialize random weights\n",
        "weights_1_2 = 0.2*np.random.random((hidden,num_labels)) - 0.1\n",
        "\n",
        "test_err_np = np.array([])\n",
        "test_acc_np = np.array([])\n",
        "train_err_np = np.array([])\n",
        "train_acc_np = np.array([])\n",
        "\n",
        "# training\n",
        "for j in range(iterations):\n",
        "  error = 0.0\n",
        "  correct_cnt = 0\n",
        " \n",
        "  # iterating through each training image\n",
        "  for i in range(int(len(img) / batch_size)):\n",
        "    batch_start = i * batch_size\n",
        "    batch_end = (i+1) * batch_size\n",
        "    \n",
        "    # layer 0\n",
        "    layer_0 = img[batch_start : batch_end]\n",
        "    # layer 1\n",
        "    layer_1 = relu(np.dot(layer_0, weights_0_1))\n",
        "    # adding dropout mask\n",
        "    dropout_mask = np.random.randint(2 , size=layer_1.shape)\n",
        "    layer_1 *= dropout_mask * 2\n",
        "    # layer 2\n",
        "    layer_2 = np.dot(layer_1, weights_1_2)\n",
        "\n",
        "    # MSE between the predicted and actual label value\n",
        "    error += np.sum((labels[batch_start : batch_end] - layer_2) ** 2)\n",
        "\n",
        "    for k in range(batch_size):\n",
        "\n",
        "      # counting how many times the model predicts correctly\n",
        "      correct_cnt += int(np.argmax(layer_2[k:k+1]) == np.argmax(labels[batch_start+k:batch_end+k+1]))\n",
        "\n",
        "      # difference predicted and actual \n",
        "      layer_2_delta = (labels[batch_start:batch_end] - layer_2) / batch_size\n",
        "\n",
        "      # backprop & adjusting weights\n",
        "      # adding dropout mask\n",
        "      layer_1_delta = layer_2_delta.dot(weights_1_2.T) * relu2deriv(layer_1)\n",
        "      layer_1_delta *= dropout_mask\n",
        "\n",
        "      weights_1_2 += alpha * layer_1.T.dot(layer_2_delta)\n",
        "      weights_0_1 += alpha * layer_0.T.dot(layer_1_delta)\n",
        "      # print(weights_0_1)\n",
        "\n",
        "  \n",
        "  if (j%10 == 0):\n",
        "    test_error = 0.0\n",
        "    test_correct_cnt = 0\n",
        "\n",
        "    for i in range(len(test_img)):\n",
        "      layer_0 = test_img[i:i+1]\n",
        "      layer_1 = relu(np.dot(layer_0, weights_0_1))\n",
        "      layer_2 = np.dot(layer_1, weights_1_2)\n",
        "\n",
        "\n",
        "      test_error += np.sum((test_label[i:i+1] - layer_2) ** 2)\n",
        "      test_correct_cnt += int(np.argmax(layer_2) == np.argmax(test_label[i:i+1]))\n",
        "      \n",
        "    test_err_np = np.append(test_np, [test_error/ float(len(test_img))])\n",
        "    test_acc_np = np.append(test_acc_np, [test_correct_cnt / float(len(test_img))])\n",
        "    train_err_np = np.append(train_err_np, [error/float(len(img))])\n",
        "    train_acc_np = np.append(train_acc_np, [correct_cnt/float(len(img))])\n",
        "    sys.stdout.write(\"\\n I:\"+str(j)+ \\\n",
        "                     \" Test-Error:\" + str(test_error/ float(len(test_img)))[0:5] +\\\n",
        "                     \" Test-Accuracy:\" + str(test_correct_cnt/ float(len(test_img)))+\\\n",
        "                     \" Train-Error:\" + str(error/float(len(img)))[0:5] +\\\n",
        "                     \" Train-Accuracy:\" + str(correct_cnt/float(len(img))))\n",
        "    # print(str(test_error/ float(len(test_img)))[0:5])"
      ],
      "execution_count": 29,
      "outputs": [
        {
          "output_type": "stream",
          "text": [
            "\n",
            " I:0 Test-Error:0.812 Test-Accuracy:0.3883 Train-Error:1.241 Train-Accuracy:0.176\n",
            " I:10 Test-Error:0.573 Test-Accuracy:0.7056 Train-Error:0.613 Train-Accuracy:0.662\n",
            " I:20 Test-Error:0.515 Test-Accuracy:0.7495 Train-Error:0.542 Train-Accuracy:0.73\n",
            " I:30 Test-Error:0.481 Test-Accuracy:0.7781 Train-Error:0.512 Train-Accuracy:0.746\n",
            " I:40 Test-Error:0.465 Test-Accuracy:0.7951 Train-Error:0.494 Train-Accuracy:0.767\n",
            " I:50 Test-Error:0.452 Test-Accuracy:0.8021 Train-Error:0.472 Train-Accuracy:0.773\n",
            " I:60 Test-Error:0.445 Test-Accuracy:0.8009 Train-Error:0.455 Train-Accuracy:0.784\n",
            " I:70 Test-Error:0.440 Test-Accuracy:0.8015 Train-Error:0.451 Train-Accuracy:0.782\n",
            " I:80 Test-Error:0.448 Test-Accuracy:0.7929 Train-Error:0.452 Train-Accuracy:0.798\n",
            " I:90 Test-Error:0.452 Test-Accuracy:0.7927 Train-Error:0.443 Train-Accuracy:0.792\n",
            " I:100 Test-Error:0.452 Test-Accuracy:0.7965 Train-Error:0.448 Train-Accuracy:0.794\n",
            " I:110 Test-Error:0.448 Test-Accuracy:0.7948 Train-Error:0.441 Train-Accuracy:0.797\n",
            " I:120 Test-Error:0.449 Test-Accuracy:0.7954 Train-Error:0.429 Train-Accuracy:0.803\n",
            " I:130 Test-Error:0.445 Test-Accuracy:0.7893 Train-Error:0.419 Train-Accuracy:0.816\n",
            " I:140 Test-Error:0.440 Test-Accuracy:0.7937 Train-Error:0.426 Train-Accuracy:0.819\n",
            " I:150 Test-Error:0.439 Test-Accuracy:0.7991 Train-Error:0.421 Train-Accuracy:0.824\n",
            " I:160 Test-Error:0.436 Test-Accuracy:0.7988 Train-Error:0.413 Train-Accuracy:0.829\n",
            " I:170 Test-Error:0.434 Test-Accuracy:0.8026 Train-Error:0.397 Train-Accuracy:0.811\n",
            " I:180 Test-Error:0.432 Test-Accuracy:0.8006 Train-Error:0.397 Train-Accuracy:0.836\n",
            " I:190 Test-Error:0.431 Test-Accuracy:0.7977 Train-Error:0.394 Train-Accuracy:0.832"
          ],
          "name": "stdout"
        }
      ]
    },
    {
      "cell_type": "code",
      "metadata": {
        "id": "In4825g8AGlO",
        "colab_type": "code",
        "colab": {
          "base_uri": "https://localhost:8080/",
          "height": 265
        },
        "outputId": "43961bc6-a56e-4d11-ad4b-d50f1ea609d0"
      },
      "source": [
        "import matplotlib.pyplot as plt\n",
        "\n",
        "fig, ax = plt.subplots(2,1)\n",
        "ax[0].plot(test_acc_np, color='r', label=\"Testing Accuracy\")\n",
        "ax[0].plot(test_err_np, color='b', label=\"Testing Error\")\n",
        "legend = ax[0].legend(loc='best', shadow=True)\n",
        "\n",
        "\n",
        "ax[1].plot(train_acc_np, color='r', label=\"Training Accuracy\")\n",
        "ax[1].plot(train_err_np, color='b', label=\"Training Error\")\n",
        "legend = ax[1].legend(loc='best', shadow=True)\n"
      ],
      "execution_count": 30,
      "outputs": [
        {
          "output_type": "display_data",
          "data": {
            "image/png": "[encoded data removed]",
            "text/plain": [
              "<Figure size 432x288 with 2 Axes>"
            ]
          },
          "metadata": {
            "tags": []
          }
        }
      ]
    },
    {
      "cell_type": "code",
      "metadata": {
        "id": "AkxFgkSIFsdv",
        "colab_type": "code",
        "colab": {}
      },
      "source": [
        "# Confusion matrix \n",
        "\n",
        "def plot_confusion_matrix(cm, classes,\n",
        "                          normalize=False,\n",
        "                          title='Confusion matrix',\n",
        "                          cmap=plt.cm.Blues):\n",
        "    \"\"\"\n",
        "    This function prints and plots the confusion matrix.\n",
        "    Normalization can be applied by setting `normalize=True`.\n",
        "    \"\"\"\n",
        "    plt.imshow(cm, interpolation='nearest', cmap=cmap)\n",
        "    plt.title(title)\n",
        "    plt.colorbar()\n",
        "    tick_marks = np.arange(len(classes))\n",
        "    plt.xticks(tick_marks, classes, rotation=45)\n",
        "    plt.yticks(tick_marks, classes)\n",
        "\n",
        "    if normalize:\n",
        "        cm = cm.astype('float') / cm.sum(axis=1)[:, np.newaxis]\n",
        "\n",
        "    thresh = cm.max() / 2.\n",
        "    for i, j in itertools.product(range(cm.shape[0]), range(cm.shape[1])):\n",
        "        plt.text(j, i, cm[i, j],\n",
        "                 horizontalalignment=\"center\",\n",
        "                 color=\"white\" if cm[i, j] > thresh else \"black\")\n",
        "\n",
        "    plt.tight_layout()\n",
        "    plt.ylabel('True label')\n",
        "    plt.xlabel('Predicted label')\n",
        "\n",
        "# Predict the values from the validation dataset\n",
        "Y_pred = model.predict(X_val)\n",
        "# Convert predictions classes to one hot vectors \n",
        "Y_pred_classes = np.argmax(Y_pred,axis = 1) \n",
        "# Convert validation observations to one hot vectors\n",
        "Y_true = np.argmax(Y_val,axis = 1) \n",
        "# compute the confusion matrix\n",
        "confusion_mtx = confusion_matrix(Y_true, Y_pred_classes) \n",
        "# plot the confusion matrix\n",
        "plot_confusion_matrix(confusion_mtx, classes = range(10)) "
      ],
      "execution_count": 0,
      "outputs": []
    },
    {
      "cell_type": "markdown",
      "metadata": {
        "id": "7LbX93eg9tep",
        "colab_type": "text"
      },
      "source": [
        "c) The code should do basic image augmentations to supplement the training data (not testing data) using keras libraries  (NEW than the deck) - see the image augmentations tried in https://www.kaggle.com/yassineghouzam/introduction-to-cnn-keras-0-997-top-6"
      ]
    },
    {
      "cell_type": "markdown",
      "metadata": {
        "id": "kxGBeJIh9vYK",
        "colab_type": "text"
      },
      "source": [
        "d) The code should use  3 or more layers for training (not 2 as in example ) - you have to tune and pick number of neurons in your layer and number of layers\n",
        "\n"
      ]
    },
    {
      "cell_type": "markdown",
      "metadata": {
        "id": "nz_62E4H-APu",
        "colab_type": "text"
      },
      "source": [
        "i) The code should display top common errors like in below link."
      ]
    }
  ]
}