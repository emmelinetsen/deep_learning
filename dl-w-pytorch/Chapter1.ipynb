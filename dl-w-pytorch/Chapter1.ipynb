{
  "nbformat": 4,
  "nbformat_minor": 0,
  "metadata": {
    "colab": {
      "name": "Chapter1.ipynb",
      "provenance": [],
      "authorship_tag": "ABX9TyMkYrHOPMvGJO7bsegaxDGi",
      "include_colab_link": true
    },
    "kernelspec": {
      "name": "python3",
      "display_name": "Python 3"
    },
    "accelerator": "GPU"
  },
  "cells": [
    {
      "cell_type": "markdown",
      "metadata": {
        "id": "view-in-github",
        "colab_type": "text"
      },
      "source": [
        "<a href=\"https://colab.research.google.com/github/emmelinetsen/deep_learning/blob/master/dl-w-pytorch/Chapter1.ipynb\" target=\"_parent\"><img src=\"https://colab.research.google.com/assets/colab-badge.svg\" alt=\"Open In Colab\"/></a>"
      ]
    },
    {
      "cell_type": "markdown",
      "metadata": {
        "id": "qmr3JItiJ4CB",
        "colab_type": "text"
      },
      "source": [
        "Source: https://pytorch.org/assets/deep-learning/Deep-Learning-with-PyTorch.pdf\n",
        "\n",
        "Exercises\n",
        "\n",
        "-- Start Python to get an interactive prompt.\n",
        "- What Python version are you using: 2.x or 3.x?\n",
        "- Can you import torch? What version of PyTorch do you get?\n",
        "- What is the result of torch.cuda.is_available()? Does it match your\n",
        "expectation based on the hardware you’re using?"
      ]
    },
    {
      "cell_type": "code",
      "metadata": {
        "id": "4OAL4V00Jr6H",
        "colab_type": "code",
        "outputId": "6e3372fb-4cb5-451b-dbf0-64c971cede70",
        "colab": {
          "base_uri": "https://localhost:8080/",
          "height": 34
        }
      },
      "source": [
        "!python --version"
      ],
      "execution_count": 0,
      "outputs": [
        {
          "output_type": "stream",
          "text": [
            "Python 3.6.9\n"
          ],
          "name": "stdout"
        }
      ]
    },
    {
      "cell_type": "code",
      "metadata": {
        "id": "ZfUYOzstKIW1",
        "colab_type": "code",
        "colab": {}
      },
      "source": [
        "import torch"
      ],
      "execution_count": 0,
      "outputs": []
    },
    {
      "cell_type": "code",
      "metadata": {
        "id": "2Zw7bqk2KMDi",
        "colab_type": "code",
        "outputId": "e7199e68-592b-4952-9903-4e9b21857acb",
        "colab": {
          "base_uri": "https://localhost:8080/",
          "height": 34
        }
      },
      "source": [
        "torch.version.__version__"
      ],
      "execution_count": 0,
      "outputs": [
        {
          "output_type": "execute_result",
          "data": {
            "text/plain": [
              "'1.5.0+cu101'"
            ]
          },
          "metadata": {
            "tags": []
          },
          "execution_count": 3
        }
      ]
    },
    {
      "cell_type": "code",
      "metadata": {
        "id": "0T_m8r66KO8K",
        "colab_type": "code",
        "outputId": "e1eab2be-c5b9-4e2f-9a7b-6e376a2f68b8",
        "colab": {
          "base_uri": "https://localhost:8080/",
          "height": 34
        }
      },
      "source": [
        "# using GPU, expect cuda to be available\n",
        "torch.cuda.is_available()"
      ],
      "execution_count": 0,
      "outputs": [
        {
          "output_type": "execute_result",
          "data": {
            "text/plain": [
              "True"
            ]
          },
          "metadata": {
            "tags": []
          },
          "execution_count": 4
        }
      ]
    }
  ]
}