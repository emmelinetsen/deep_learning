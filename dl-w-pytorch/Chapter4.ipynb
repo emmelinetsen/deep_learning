{
  "nbformat": 4,
  "nbformat_minor": 0,
  "metadata": {
    "colab": {
      "name": "Chapter4.ipynb",
      "provenance": [],
      "authorship_tag": "ABX9TyOetwrrPAs/QanC9nP+cUzg",
      "include_colab_link": true
    },
    "kernelspec": {
      "name": "python3",
      "display_name": "Python 3"
    },
    "accelerator": "GPU"
  },
  "cells": [
    {
      "cell_type": "markdown",
      "metadata": {
        "id": "view-in-github",
        "colab_type": "text"
      },
      "source": [
        "<a href=\"https://colab.research.google.com/github/emmelinetsen/deep_learning/blob/master/dl-w-pytorch/Chapter4.ipynb\" target=\"_parent\"><img src=\"https://colab.research.google.com/assets/colab-badge.svg\" alt=\"Open In Colab\"/></a>"
      ]
    },
    {
      "cell_type": "code",
      "metadata": {
        "id": "9lOHwEW9qBG3",
        "colab_type": "code",
        "colab": {}
      },
      "source": [
        "import torch\n",
        "t_c = [0.5, 14.0, 15.0, 28.0, 11.0, 8.0, 3.0, -4.0, 6.0, 13.0, 21.0]\n",
        "t_u = [35.7, 55.9, 58.2, 81.9, 56.3, 48.9, 33.9, 21.8, 48.4, 60.4, 68.4]\n",
        "t_c = torch.tensor(t_c)\n",
        "t_u = torch.tensor(t_u)"
      ],
      "execution_count": 0,
      "outputs": []
    },
    {
      "cell_type": "code",
      "metadata": {
        "id": "RZVeU-QvPjGr",
        "colab_type": "code",
        "colab": {
          "base_uri": "https://localhost:8080/",
          "height": 52
        },
        "outputId": "dae6431e-0887-47f3-bee7-c996bf8b3c91"
      },
      "source": [
        "t_c"
      ],
      "execution_count": 2,
      "outputs": [
        {
          "output_type": "execute_result",
          "data": {
            "text/plain": [
              "tensor([ 0.5000, 14.0000, 15.0000, 28.0000, 11.0000,  8.0000,  3.0000, -4.0000,\n",
              "         6.0000, 13.0000, 21.0000])"
            ]
          },
          "metadata": {
            "tags": []
          },
          "execution_count": 2
        }
      ]
    },
    {
      "cell_type": "code",
      "metadata": {
        "id": "n_lmiAZHPnlP",
        "colab_type": "code",
        "colab": {
          "base_uri": "https://localhost:8080/",
          "height": 52
        },
        "outputId": "e5c25545-96f5-45ad-b390-a44b21cff59b"
      },
      "source": [
        "t_u"
      ],
      "execution_count": 3,
      "outputs": [
        {
          "output_type": "execute_result",
          "data": {
            "text/plain": [
              "tensor([35.7000, 55.9000, 58.2000, 81.9000, 56.3000, 48.9000, 33.9000, 21.8000,\n",
              "        48.4000, 60.4000, 68.4000])"
            ]
          },
          "metadata": {
            "tags": []
          },
          "execution_count": 3
        }
      ]
    },
    {
      "cell_type": "code",
      "metadata": {
        "id": "TRyaKYDLPpAl",
        "colab_type": "code",
        "colab": {}
      },
      "source": [
        "def model(t_u, w, b):\n",
        " return w * t_u + b"
      ],
      "execution_count": 0,
      "outputs": []
    },
    {
      "cell_type": "code",
      "metadata": {
        "id": "OGWxn-YdQPlw",
        "colab_type": "code",
        "colab": {}
      },
      "source": [
        "def loss_fn(t_p, t_c):\n",
        " squared_diffs = (t_p - t_c)**2\n",
        " return squared_diffs.mean()"
      ],
      "execution_count": 0,
      "outputs": []
    },
    {
      "cell_type": "code",
      "metadata": {
        "id": "CWPP0siuQTl2",
        "colab_type": "code",
        "colab": {
          "base_uri": "https://localhost:8080/",
          "height": 52
        },
        "outputId": "f6747703-6567-4a47-8764-e073509d2b37"
      },
      "source": [
        "w = torch.ones(1)\n",
        "b = torch.zeros(1)\n",
        "t_p = model(t_u, w, b)\n",
        "t_p"
      ],
      "execution_count": 6,
      "outputs": [
        {
          "output_type": "execute_result",
          "data": {
            "text/plain": [
              "tensor([35.7000, 55.9000, 58.2000, 81.9000, 56.3000, 48.9000, 33.9000, 21.8000,\n",
              "        48.4000, 60.4000, 68.4000])"
            ]
          },
          "metadata": {
            "tags": []
          },
          "execution_count": 6
        }
      ]
    },
    {
      "cell_type": "code",
      "metadata": {
        "id": "uszEjUmvQYpd",
        "colab_type": "code",
        "colab": {
          "base_uri": "https://localhost:8080/",
          "height": 34
        },
        "outputId": "bcc1a9c8-06bc-4693-fe68-c94011858191"
      },
      "source": [
        "loss = loss_fn(t_p, t_c)\n",
        "loss"
      ],
      "execution_count": 7,
      "outputs": [
        {
          "output_type": "execute_result",
          "data": {
            "text/plain": [
              "tensor(1763.8846)"
            ]
          },
          "metadata": {
            "tags": []
          },
          "execution_count": 7
        }
      ]
    },
    {
      "cell_type": "code",
      "metadata": {
        "id": "SrzuwOgaQhxZ",
        "colab_type": "code",
        "colab": {}
      },
      "source": [
        "delta = 0.1\n",
        "loss_rate_of_change_w = \\\n",
        " (loss_fn(model(t_u, w + delta, b), t_c) -\n",
        " loss_fn(model(t_u, w - delta, b), t_c)) / (2.0 * delta)"
      ],
      "execution_count": 0,
      "outputs": []
    },
    {
      "cell_type": "code",
      "metadata": {
        "id": "rar0fiB1QoqG",
        "colab_type": "code",
        "colab": {
          "base_uri": "https://localhost:8080/",
          "height": 34
        },
        "outputId": "992762ef-2f08-4c56-d68e-42bdcbf27f39"
      },
      "source": [
        "learning_rate = 1e-2\n",
        "w = w - learning_rate * loss_rate_of_change_w\n",
        "w"
      ],
      "execution_count": 10,
      "outputs": [
        {
          "output_type": "execute_result",
          "data": {
            "text/plain": [
              "tensor([-89.3460])"
            ]
          },
          "metadata": {
            "tags": []
          },
          "execution_count": 10
        }
      ]
    },
    {
      "cell_type": "code",
      "metadata": {
        "id": "X6fjbTloQsV1",
        "colab_type": "code",
        "colab": {
          "base_uri": "https://localhost:8080/",
          "height": 34
        },
        "outputId": "dbc3d58c-a2d3-4ca1-c348-a860e34c8f09"
      },
      "source": [
        "loss_rate_of_change_b = \\\n",
        " (loss_fn(model(t_u, w, b + delta), t_c) -\n",
        " loss_fn(model(t_u, w, b - delta), t_c)) / (2.0 * delta)\n",
        "b = b - learning_rate * loss_rate_of_change_b\n",
        "b"
      ],
      "execution_count": 11,
      "outputs": [
        {
          "output_type": "execute_result",
          "data": {
            "text/plain": [
              "tensor([92.9000])"
            ]
          },
          "metadata": {
            "tags": []
          },
          "execution_count": 11
        }
      ]
    },
    {
      "cell_type": "code",
      "metadata": {
        "id": "FbinWtnJQzK6",
        "colab_type": "code",
        "colab": {}
      },
      "source": [
        "def loss_fn(t_p, t_c):\n",
        " squared_diffs = (t_p - t_c)**2\n",
        " return squared_diffs.mean()\n",
        "\n",
        "def dloss_fn(t_p, t_c):\n",
        " dsq_diffs = 2 * (t_p - t_c)\n",
        " return dsq_diffs\n",
        "\n",
        "def model(t_u, w, b):\n",
        " return w * t_u + b\n",
        "\n",
        "def dmodel_dw(t_u, w, b):\n",
        " return t_u\n",
        "\n",
        "def dmodel_db(t_u, w, b):\n",
        " return 1.0\n",
        "\n",
        "def grad_fn(t_u, t_c, t_p, w, b):\n",
        " dloss_dw = dloss_fn(t_p, t_c) * dmodel_dw(t_u, w, b)\n",
        " dloss_db = dloss_fn(t_p, t_c) * dmodel_db(t_u, w, b)\n",
        " return torch.stack([dloss_dw.mean(), dloss_db.mean()])\n",
        "\n",
        "def training_loop(n_epochs, learning_rate, params, t_u, t_c):\n",
        " for epoch in range(1, n_epochs + 1):\n",
        "  w, b = params\n",
        "  t_p = model(t_u, w, b)\n",
        "  loss = loss_fn(t_p, t_c)\n",
        "  grad = grad_fn(t_u, t_c, t_p, w, b)\n",
        "  params = params - learning_rate * grad\n",
        "  print('Epoch %d, Loss %f' % (epoch, float(loss)))\n",
        " return params\n"
      ],
      "execution_count": 0,
      "outputs": []
    },
    {
      "cell_type": "code",
      "metadata": {
        "id": "Ymy5jhxdRKwi",
        "colab_type": "code",
        "colab": {
          "base_uri": "https://localhost:8080/",
          "height": 1000
        },
        "outputId": "bec6fd6a-c96e-4ab9-bf3b-1752eb2f88bc"
      },
      "source": [
        "training_loop(\n",
        " n_epochs = 100,\n",
        " learning_rate = 1e-2,\n",
        " params = torch.tensor([1.0, 0.0]),\n",
        " t_u = t_u,\n",
        " t_c = t_c)"
      ],
      "execution_count": 20,
      "outputs": [
        {
          "output_type": "stream",
          "text": [
            "Epoch 1, Loss 1763.884644\n",
            "Epoch 2, Loss 5802484.500000\n",
            "Epoch 3, Loss 19408031744.000000\n",
            "Epoch 4, Loss 64915909902336.000000\n",
            "Epoch 5, Loss 217130439561707520.000000\n",
            "Epoch 6, Loss 726257020202974707712.000000\n",
            "Epoch 7, Loss 2429181687085405986357248.000000\n",
            "Epoch 8, Loss 8125117236949438203699396608.000000\n",
            "Epoch 9, Loss 27176865195881116022129584766976.000000\n",
            "Epoch 10, Loss 90901075478458130961171361977860096.000000\n",
            "Epoch 11, Loss inf\n",
            "Epoch 12, Loss inf\n",
            "Epoch 13, Loss inf\n",
            "Epoch 14, Loss inf\n",
            "Epoch 15, Loss inf\n",
            "Epoch 16, Loss inf\n",
            "Epoch 17, Loss inf\n",
            "Epoch 18, Loss inf\n",
            "Epoch 19, Loss inf\n",
            "Epoch 20, Loss inf\n",
            "Epoch 21, Loss inf\n",
            "Epoch 22, Loss inf\n",
            "Epoch 23, Loss nan\n",
            "Epoch 24, Loss nan\n",
            "Epoch 25, Loss nan\n",
            "Epoch 26, Loss nan\n",
            "Epoch 27, Loss nan\n",
            "Epoch 28, Loss nan\n",
            "Epoch 29, Loss nan\n",
            "Epoch 30, Loss nan\n",
            "Epoch 31, Loss nan\n",
            "Epoch 32, Loss nan\n",
            "Epoch 33, Loss nan\n",
            "Epoch 34, Loss nan\n",
            "Epoch 35, Loss nan\n",
            "Epoch 36, Loss nan\n",
            "Epoch 37, Loss nan\n",
            "Epoch 38, Loss nan\n",
            "Epoch 39, Loss nan\n",
            "Epoch 40, Loss nan\n",
            "Epoch 41, Loss nan\n",
            "Epoch 42, Loss nan\n",
            "Epoch 43, Loss nan\n",
            "Epoch 44, Loss nan\n",
            "Epoch 45, Loss nan\n",
            "Epoch 46, Loss nan\n",
            "Epoch 47, Loss nan\n",
            "Epoch 48, Loss nan\n",
            "Epoch 49, Loss nan\n",
            "Epoch 50, Loss nan\n",
            "Epoch 51, Loss nan\n",
            "Epoch 52, Loss nan\n",
            "Epoch 53, Loss nan\n",
            "Epoch 54, Loss nan\n",
            "Epoch 55, Loss nan\n",
            "Epoch 56, Loss nan\n",
            "Epoch 57, Loss nan\n",
            "Epoch 58, Loss nan\n",
            "Epoch 59, Loss nan\n",
            "Epoch 60, Loss nan\n",
            "Epoch 61, Loss nan\n",
            "Epoch 62, Loss nan\n",
            "Epoch 63, Loss nan\n",
            "Epoch 64, Loss nan\n",
            "Epoch 65, Loss nan\n",
            "Epoch 66, Loss nan\n",
            "Epoch 67, Loss nan\n",
            "Epoch 68, Loss nan\n",
            "Epoch 69, Loss nan\n",
            "Epoch 70, Loss nan\n",
            "Epoch 71, Loss nan\n",
            "Epoch 72, Loss nan\n",
            "Epoch 73, Loss nan\n",
            "Epoch 74, Loss nan\n",
            "Epoch 75, Loss nan\n",
            "Epoch 76, Loss nan\n",
            "Epoch 77, Loss nan\n",
            "Epoch 78, Loss nan\n",
            "Epoch 79, Loss nan\n",
            "Epoch 80, Loss nan\n",
            "Epoch 81, Loss nan\n",
            "Epoch 82, Loss nan\n",
            "Epoch 83, Loss nan\n",
            "Epoch 84, Loss nan\n",
            "Epoch 85, Loss nan\n",
            "Epoch 86, Loss nan\n",
            "Epoch 87, Loss nan\n",
            "Epoch 88, Loss nan\n",
            "Epoch 89, Loss nan\n",
            "Epoch 90, Loss nan\n",
            "Epoch 91, Loss nan\n",
            "Epoch 92, Loss nan\n",
            "Epoch 93, Loss nan\n",
            "Epoch 94, Loss nan\n",
            "Epoch 95, Loss nan\n",
            "Epoch 96, Loss nan\n",
            "Epoch 97, Loss nan\n",
            "Epoch 98, Loss nan\n",
            "Epoch 99, Loss nan\n",
            "Epoch 100, Loss nan\n"
          ],
          "name": "stdout"
        },
        {
          "output_type": "execute_result",
          "data": {
            "text/plain": [
              "tensor([nan, nan])"
            ]
          },
          "metadata": {
            "tags": []
          },
          "execution_count": 20
        }
      ]
    },
    {
      "cell_type": "code",
      "metadata": {
        "id": "0Wczmf8CSQwP",
        "colab_type": "code",
        "colab": {}
      },
      "source": [
        ""
      ],
      "execution_count": 0,
      "outputs": []
    }
  ]
}